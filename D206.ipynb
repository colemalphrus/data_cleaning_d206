{
 "cells": [
  {
   "cell_type": "markdown",
   "metadata": {},
   "source": [
    "# D206 Data Cleaning\n",
    "#### By: Orland Cole Malphrus\n",
    "#### 5/2/2021"
   ]
  },
  {
   "cell_type": "markdown",
   "metadata": {},
   "source": [
    "## PART I: Research Question\n",
    "#### A:  Describe one question or decision that you will address using the data set you chose.\n",
    " Can we accurately predict which individual patients are likey to require redamission based on their patient profile? That is, can we create a model that will identify the likleyhood of readmission based on data collected during the initial visit? Furthermore to address this question, we must address the question of which individual data features correlate with the readmission rate."
   ]
  },
  {
   "cell_type": "markdown",
   "metadata": {},
   "source": [
    "### B: Describe the variables in the data set \n",
    "\n",
    "The data set contains 10,000 patient records from a hospital that hopes to assess the likelihood of patient readmission. The data set contains a column labeled “ReAdmis” which is the target variable in the analysis. The Readmission data point is a categorical variable that is boolean. The readmission data point reads “yes” if the patient was readmitted to the hospital within a month. \n",
    "\n",
    "The data set is also comprised of many other independent variables that must be considered. These variables will be assessed to determine potential predictors of our target variable. These variables fall into four main categories.\n",
    "\n",
    "1. Patient medical condition: medical condition data points are primarily categorical and contain boolean “yes/no” or “0/1” values. For example, the data set contains a “BackPain” column where if the patient has back chronic back pain the column would contain a “yes” value and if the patient does not have chronic back pain the value would be “no”. high blood pressure, stroke, obesity, arthritis, diabetes, and a few others follow this same pattern. The “VitD_levels” column is an example of an exception to this pattern as this data column Mesures Vitamine D levels as a numerical value.\n",
    "2. Patient Information: patient information columns are columns that contain information about the patient’s stay. This includes information such as the type of initial admission, treatments received, and the number of days hospitalized. The patient information contains categorical data exemplified by the type of initial admission which is broken down into three categories “emergency admission”, “elective admission”, “observation”. The patient information also contains numerical data such as the number of days hospitalized which contains a count of the number of days the patient stayed in the hospital.\n",
    "3. patient demographic information: the patient demographic data includes items such as the geographic location, income level, age, and regional population. This data categorical data based such as the country of residence on the patients billing address as well as numerical data such as the income of the patient.\n",
    "4. Survey Data: The survey data contains 8 questions about the perceived importance of certain aspects of the hospital experience. The data points are stored as numerical ratings on a scale of 1 to 8 with 1 being most important and being the least important.\n"
   ]
  },
  {
   "cell_type": "markdown",
   "metadata": {},
   "source": [
    "## Part II: Data Cleaning Plan"
   ]
  },
  {
   "cell_type": "markdown",
   "metadata": {},
   "source": [
    "### C: Explain the plan for cleaning the data by doing the following:\n",
    "\n",
    "#### C1. The Approach that will be used to discover anomalies in the data:\n",
    "1. The data will be imported from the CSV file and into a python pandas DataFrame.\n",
    "2. The data labels will be identified and checked for alignment with the data dictionary provided by the hospital.\n",
    "3. A new Index field will be created if one is not satasfoctoraly provided in the pre existing data set.\n",
    "4. Check for duplicate data entries in the dataframe using pandas build in duplicated method.\n",
    "5. Check categorical data for consistency in category labels. Using the unique method to determine the categories \n",
    "6. The data sets columns will be scanned to discover columns with missing values. These columns will be noted for further action when it comes to mitigating abnormalities. This will be done using pandas built in null and na checking.\n",
    "7. Columns in the data frame that contain numerical values will be anylized In two separate ways. First the numerical values will be plotted in a histogram. Secondly the data will be standardized and then plotted using matplotlib’s box plot functionality. This will aim to identify columns with outliers that could potentially be anomalies. \n",
    "8. The 8 survey items in the data set will be anylized separately from the other numerical values. Since the data dictionary specifies the range of values allowed on the survey as numbers between one and 8 we can scan for anomalies with a pandas min and max functions.\n"
   ]
  },
  {
   "cell_type": "markdown",
   "metadata": {},
   "source": [
    "####  C2. justification of aproach\n",
    "\n",
    "    The approach laid out on the above steps is in line with many of the industry’s best practices. The importing of the CSV into pandas enables the use of more advanced cleaning technics than that which are possible in a CSV text file. Then reviewing the file to ensure its alignment with the data dictionary will give us confidence in our future analysis that what we see in the dictionary is what we have to work with. This would normally be accompanied by an updating of the data dictionary to show any changes made but that is beyond the scope of this project. The adding of an index field that begins its count at 0 aligned with pythons default which is indexing starting at 0. Adding this ID column will provide an anchor point for future analytics.\n",
    "\t\n",
    "    Checking the data set for duplicates in the data set is critical to the integrity of the overall analysis. Duplicate data can distort measures of central tendency as well as skew results of more advanced analytics. This is also true of consistency errors with category labels. This is why it was important to review the consistency of categorical labels. This check ensures that something as simple as a capitalization error does not create two categories where one is needed thereby throwing off analysis.\n",
    "\t\n",
    "    Missing values pose another threat to our analytics making it important to identify. Using pandas we can quickly find and determine the severity of our missing data problem. It is also important to discover and deal with missing values before we analyze for outliers. Missing data can skew standard deviation or the Z-scores and could lead to mislabeling normal data as outliers.\n",
    "\t\n",
    "    Identify outliers using boxplots provides a visual representation of the quantity and severity of outliers in the data set. Furthermore using standardized data in these boxplots gives consistency to the variation in numerical data points. This allows us to analyze the outliers of different data points using a common scale and metric. Before using the standardized box plot method a histogram was used to provide more clarity to the distribution of outliers. This eliminated the possibility of skewing perception with standardization.\n",
    "\t\n",
    "    The survey questions were handled differently than the other numerical values. This is due to the limited range and nature of the survey. With all options being between 1and 8 as long as all answers were integers in that range the risk of distortion is negligible.\n"
   ]
  },
  {
   "cell_type": "markdown",
   "metadata": {},
   "source": [
    "#### C3. justification of tools\n",
    "\n",
    "For the cleaning of this data set, we will use python. Python being an extremely capable general-purpose programming language leaves nothing to be desired in terms of effectiveness. This along with Python exceptional packages such a NumPy, Pandas, and Matplotlib make it the perfect choice. \n",
    "\n",
    "- NumPy: Allows for efficient array operations that are not native to python. NumPy is essential to working with pandas and provides great efficiency gains as it is an extension written in lower-level languages.\n",
    "- Pandas: Provides the DataFrame object as well as many additional operations for manipulating and working with data. Pandas also provide much-needed querying functionality for quickly assessing our data.\n",
    "- MatPlotLib: Provides a python toolkit for creating various visualizations to our data. This includes but is not limited to scatterplots, boxplots, and Histograms.\n",
    "\n",
    "Python is also the programming language of choice by the analyst on this project. The analyst enjoys the added benefit of 4+ years of python programming experience as a software engineer. This comfort with the language and its subsequent toolset played a large role in the decision to use python.\n"
   ]
  },
  {
   "cell_type": "markdown",
   "metadata": {},
   "source": [
    "#### C4: Code "
   ]
  },
  {
   "cell_type": "code",
   "execution_count": 1,
   "metadata": {},
   "outputs": [],
   "source": [
    "import numpy as np\n",
    "import pandas as pd\n",
    "import matplotlib.pyplot as plt\n",
    "import scipy.stats as stats\n",
    "plt.style.use('ggplot')"
   ]
  },
  {
   "cell_type": "code",
   "execution_count": 2,
   "metadata": {},
   "outputs": [],
   "source": [
    "# using pandas read_csv method we are able to read in the data from the csv file\n",
    "# by setting pd options we are able to ensure that our data columns are not truncated allowing \n",
    "# us to be able to view all columns provided\n",
    "df = pd.read_csv('./medical_raw_data.csv')\n",
    "pd.set_option('display.max_columns', 55)"
   ]
  },
  {
   "cell_type": "code",
   "execution_count": 3,
   "metadata": {},
   "outputs": [
    {
     "data": {
      "text/html": [
       "<div>\n",
       "<style scoped>\n",
       "    .dataframe tbody tr th:only-of-type {\n",
       "        vertical-align: middle;\n",
       "    }\n",
       "\n",
       "    .dataframe tbody tr th {\n",
       "        vertical-align: top;\n",
       "    }\n",
       "\n",
       "    .dataframe thead th {\n",
       "        text-align: right;\n",
       "    }\n",
       "</style>\n",
       "<table border=\"1\" class=\"dataframe\">\n",
       "  <thead>\n",
       "    <tr style=\"text-align: right;\">\n",
       "      <th></th>\n",
       "      <th>Unnamed: 0</th>\n",
       "      <th>CaseOrder</th>\n",
       "      <th>Customer_id</th>\n",
       "      <th>Interaction</th>\n",
       "      <th>UID</th>\n",
       "      <th>City</th>\n",
       "      <th>State</th>\n",
       "      <th>County</th>\n",
       "      <th>Zip</th>\n",
       "      <th>Lat</th>\n",
       "      <th>Lng</th>\n",
       "      <th>Population</th>\n",
       "      <th>Area</th>\n",
       "      <th>Timezone</th>\n",
       "      <th>Job</th>\n",
       "      <th>Children</th>\n",
       "      <th>Age</th>\n",
       "      <th>Education</th>\n",
       "      <th>Employment</th>\n",
       "      <th>Income</th>\n",
       "      <th>Marital</th>\n",
       "      <th>Gender</th>\n",
       "      <th>ReAdmis</th>\n",
       "      <th>VitD_levels</th>\n",
       "      <th>Doc_visits</th>\n",
       "      <th>Full_meals_eaten</th>\n",
       "      <th>VitD_supp</th>\n",
       "      <th>Soft_drink</th>\n",
       "      <th>Initial_admin</th>\n",
       "      <th>HighBlood</th>\n",
       "      <th>Stroke</th>\n",
       "      <th>Complication_risk</th>\n",
       "      <th>Overweight</th>\n",
       "      <th>Arthritis</th>\n",
       "      <th>Diabetes</th>\n",
       "      <th>Hyperlipidemia</th>\n",
       "      <th>BackPain</th>\n",
       "      <th>Anxiety</th>\n",
       "      <th>Allergic_rhinitis</th>\n",
       "      <th>Reflux_esophagitis</th>\n",
       "      <th>Asthma</th>\n",
       "      <th>Services</th>\n",
       "      <th>Initial_days</th>\n",
       "      <th>TotalCharge</th>\n",
       "      <th>Additional_charges</th>\n",
       "      <th>Item1</th>\n",
       "      <th>Item2</th>\n",
       "      <th>Item3</th>\n",
       "      <th>Item4</th>\n",
       "      <th>Item5</th>\n",
       "      <th>Item6</th>\n",
       "      <th>Item7</th>\n",
       "      <th>Item8</th>\n",
       "    </tr>\n",
       "  </thead>\n",
       "  <tbody>\n",
       "    <tr>\n",
       "      <th>0</th>\n",
       "      <td>1</td>\n",
       "      <td>1</td>\n",
       "      <td>C412403</td>\n",
       "      <td>8cd49b13-f45a-4b47-a2bd-173ffa932c2f</td>\n",
       "      <td>3a83ddb66e2ae73798bdf1d705dc0932</td>\n",
       "      <td>Eva</td>\n",
       "      <td>AL</td>\n",
       "      <td>Morgan</td>\n",
       "      <td>35621</td>\n",
       "      <td>34.34960</td>\n",
       "      <td>-86.72508</td>\n",
       "      <td>2951</td>\n",
       "      <td>Suburban</td>\n",
       "      <td>America/Chicago</td>\n",
       "      <td>Psychologist, sport and exercise</td>\n",
       "      <td>1.0</td>\n",
       "      <td>53.0</td>\n",
       "      <td>Some College, Less than 1 Year</td>\n",
       "      <td>Full Time</td>\n",
       "      <td>86575.93</td>\n",
       "      <td>Divorced</td>\n",
       "      <td>Male</td>\n",
       "      <td>No</td>\n",
       "      <td>17.802330</td>\n",
       "      <td>6</td>\n",
       "      <td>0</td>\n",
       "      <td>0</td>\n",
       "      <td>NaN</td>\n",
       "      <td>Emergency Admission</td>\n",
       "      <td>Yes</td>\n",
       "      <td>No</td>\n",
       "      <td>Medium</td>\n",
       "      <td>0.0</td>\n",
       "      <td>Yes</td>\n",
       "      <td>Yes</td>\n",
       "      <td>No</td>\n",
       "      <td>Yes</td>\n",
       "      <td>1.0</td>\n",
       "      <td>Yes</td>\n",
       "      <td>No</td>\n",
       "      <td>Yes</td>\n",
       "      <td>Blood Work</td>\n",
       "      <td>10.585770</td>\n",
       "      <td>3191.048774</td>\n",
       "      <td>17939.403420</td>\n",
       "      <td>3</td>\n",
       "      <td>3</td>\n",
       "      <td>2</td>\n",
       "      <td>2</td>\n",
       "      <td>4</td>\n",
       "      <td>3</td>\n",
       "      <td>3</td>\n",
       "      <td>4</td>\n",
       "    </tr>\n",
       "    <tr>\n",
       "      <th>1</th>\n",
       "      <td>2</td>\n",
       "      <td>2</td>\n",
       "      <td>Z919181</td>\n",
       "      <td>d2450b70-0337-4406-bdbb-bc1037f1734c</td>\n",
       "      <td>176354c5eef714957d486009feabf195</td>\n",
       "      <td>Marianna</td>\n",
       "      <td>FL</td>\n",
       "      <td>Jackson</td>\n",
       "      <td>32446</td>\n",
       "      <td>30.84513</td>\n",
       "      <td>-85.22907</td>\n",
       "      <td>11303</td>\n",
       "      <td>Urban</td>\n",
       "      <td>America/Chicago</td>\n",
       "      <td>Community development worker</td>\n",
       "      <td>3.0</td>\n",
       "      <td>51.0</td>\n",
       "      <td>Some College, 1 or More Years, No Degree</td>\n",
       "      <td>Full Time</td>\n",
       "      <td>46805.99</td>\n",
       "      <td>Married</td>\n",
       "      <td>Female</td>\n",
       "      <td>No</td>\n",
       "      <td>18.994640</td>\n",
       "      <td>4</td>\n",
       "      <td>2</td>\n",
       "      <td>1</td>\n",
       "      <td>No</td>\n",
       "      <td>Emergency Admission</td>\n",
       "      <td>Yes</td>\n",
       "      <td>No</td>\n",
       "      <td>High</td>\n",
       "      <td>1.0</td>\n",
       "      <td>No</td>\n",
       "      <td>No</td>\n",
       "      <td>No</td>\n",
       "      <td>No</td>\n",
       "      <td>NaN</td>\n",
       "      <td>No</td>\n",
       "      <td>Yes</td>\n",
       "      <td>No</td>\n",
       "      <td>Intravenous</td>\n",
       "      <td>15.129562</td>\n",
       "      <td>4214.905346</td>\n",
       "      <td>17612.998120</td>\n",
       "      <td>3</td>\n",
       "      <td>4</td>\n",
       "      <td>3</td>\n",
       "      <td>4</td>\n",
       "      <td>4</td>\n",
       "      <td>4</td>\n",
       "      <td>3</td>\n",
       "      <td>3</td>\n",
       "    </tr>\n",
       "    <tr>\n",
       "      <th>2</th>\n",
       "      <td>3</td>\n",
       "      <td>3</td>\n",
       "      <td>F995323</td>\n",
       "      <td>a2057123-abf5-4a2c-abad-8ffe33512562</td>\n",
       "      <td>e19a0fa00aeda885b8a436757e889bc9</td>\n",
       "      <td>Sioux Falls</td>\n",
       "      <td>SD</td>\n",
       "      <td>Minnehaha</td>\n",
       "      <td>57110</td>\n",
       "      <td>43.54321</td>\n",
       "      <td>-96.63772</td>\n",
       "      <td>17125</td>\n",
       "      <td>Suburban</td>\n",
       "      <td>America/Chicago</td>\n",
       "      <td>Chief Executive Officer</td>\n",
       "      <td>3.0</td>\n",
       "      <td>53.0</td>\n",
       "      <td>Some College, 1 or More Years, No Degree</td>\n",
       "      <td>Retired</td>\n",
       "      <td>14370.14</td>\n",
       "      <td>Widowed</td>\n",
       "      <td>Female</td>\n",
       "      <td>No</td>\n",
       "      <td>17.415889</td>\n",
       "      <td>4</td>\n",
       "      <td>1</td>\n",
       "      <td>0</td>\n",
       "      <td>No</td>\n",
       "      <td>Elective Admission</td>\n",
       "      <td>Yes</td>\n",
       "      <td>No</td>\n",
       "      <td>Medium</td>\n",
       "      <td>1.0</td>\n",
       "      <td>No</td>\n",
       "      <td>Yes</td>\n",
       "      <td>No</td>\n",
       "      <td>No</td>\n",
       "      <td>NaN</td>\n",
       "      <td>No</td>\n",
       "      <td>No</td>\n",
       "      <td>No</td>\n",
       "      <td>Blood Work</td>\n",
       "      <td>4.772177</td>\n",
       "      <td>2177.586768</td>\n",
       "      <td>17505.192460</td>\n",
       "      <td>2</td>\n",
       "      <td>4</td>\n",
       "      <td>4</td>\n",
       "      <td>4</td>\n",
       "      <td>3</td>\n",
       "      <td>4</td>\n",
       "      <td>3</td>\n",
       "      <td>3</td>\n",
       "    </tr>\n",
       "    <tr>\n",
       "      <th>3</th>\n",
       "      <td>4</td>\n",
       "      <td>4</td>\n",
       "      <td>A879973</td>\n",
       "      <td>1dec528d-eb34-4079-adce-0d7a40e82205</td>\n",
       "      <td>cd17d7b6d152cb6f23957346d11c3f07</td>\n",
       "      <td>New Richland</td>\n",
       "      <td>MN</td>\n",
       "      <td>Waseca</td>\n",
       "      <td>56072</td>\n",
       "      <td>43.89744</td>\n",
       "      <td>-93.51479</td>\n",
       "      <td>2162</td>\n",
       "      <td>Suburban</td>\n",
       "      <td>America/Chicago</td>\n",
       "      <td>Early years teacher</td>\n",
       "      <td>0.0</td>\n",
       "      <td>78.0</td>\n",
       "      <td>GED or Alternative Credential</td>\n",
       "      <td>Retired</td>\n",
       "      <td>39741.49</td>\n",
       "      <td>Married</td>\n",
       "      <td>Male</td>\n",
       "      <td>No</td>\n",
       "      <td>17.420079</td>\n",
       "      <td>4</td>\n",
       "      <td>1</td>\n",
       "      <td>0</td>\n",
       "      <td>No</td>\n",
       "      <td>Elective Admission</td>\n",
       "      <td>No</td>\n",
       "      <td>Yes</td>\n",
       "      <td>Medium</td>\n",
       "      <td>0.0</td>\n",
       "      <td>Yes</td>\n",
       "      <td>No</td>\n",
       "      <td>No</td>\n",
       "      <td>No</td>\n",
       "      <td>NaN</td>\n",
       "      <td>No</td>\n",
       "      <td>Yes</td>\n",
       "      <td>Yes</td>\n",
       "      <td>Blood Work</td>\n",
       "      <td>1.714879</td>\n",
       "      <td>2465.118965</td>\n",
       "      <td>12993.437350</td>\n",
       "      <td>3</td>\n",
       "      <td>5</td>\n",
       "      <td>5</td>\n",
       "      <td>3</td>\n",
       "      <td>4</td>\n",
       "      <td>5</td>\n",
       "      <td>5</td>\n",
       "      <td>5</td>\n",
       "    </tr>\n",
       "    <tr>\n",
       "      <th>4</th>\n",
       "      <td>5</td>\n",
       "      <td>5</td>\n",
       "      <td>C544523</td>\n",
       "      <td>5885f56b-d6da-43a3-8760-83583af94266</td>\n",
       "      <td>d2f0425877b10ed6bb381f3e2579424a</td>\n",
       "      <td>West Point</td>\n",
       "      <td>VA</td>\n",
       "      <td>King William</td>\n",
       "      <td>23181</td>\n",
       "      <td>37.59894</td>\n",
       "      <td>-76.88958</td>\n",
       "      <td>5287</td>\n",
       "      <td>Rural</td>\n",
       "      <td>America/New_York</td>\n",
       "      <td>Health promotion specialist</td>\n",
       "      <td>NaN</td>\n",
       "      <td>22.0</td>\n",
       "      <td>Regular High School Diploma</td>\n",
       "      <td>Full Time</td>\n",
       "      <td>1209.56</td>\n",
       "      <td>Widowed</td>\n",
       "      <td>Female</td>\n",
       "      <td>No</td>\n",
       "      <td>16.870524</td>\n",
       "      <td>5</td>\n",
       "      <td>0</td>\n",
       "      <td>2</td>\n",
       "      <td>Yes</td>\n",
       "      <td>Elective Admission</td>\n",
       "      <td>No</td>\n",
       "      <td>No</td>\n",
       "      <td>Low</td>\n",
       "      <td>0.0</td>\n",
       "      <td>No</td>\n",
       "      <td>No</td>\n",
       "      <td>Yes</td>\n",
       "      <td>No</td>\n",
       "      <td>0.0</td>\n",
       "      <td>Yes</td>\n",
       "      <td>No</td>\n",
       "      <td>No</td>\n",
       "      <td>CT Scan</td>\n",
       "      <td>1.254807</td>\n",
       "      <td>1885.655137</td>\n",
       "      <td>3716.525786</td>\n",
       "      <td>2</td>\n",
       "      <td>1</td>\n",
       "      <td>3</td>\n",
       "      <td>3</td>\n",
       "      <td>5</td>\n",
       "      <td>3</td>\n",
       "      <td>4</td>\n",
       "      <td>3</td>\n",
       "    </tr>\n",
       "  </tbody>\n",
       "</table>\n",
       "</div>"
      ],
      "text/plain": [
       "   Unnamed: 0  CaseOrder Customer_id                           Interaction  \\\n",
       "0           1          1     C412403  8cd49b13-f45a-4b47-a2bd-173ffa932c2f   \n",
       "1           2          2     Z919181  d2450b70-0337-4406-bdbb-bc1037f1734c   \n",
       "2           3          3     F995323  a2057123-abf5-4a2c-abad-8ffe33512562   \n",
       "3           4          4     A879973  1dec528d-eb34-4079-adce-0d7a40e82205   \n",
       "4           5          5     C544523  5885f56b-d6da-43a3-8760-83583af94266   \n",
       "\n",
       "                                UID          City State        County    Zip  \\\n",
       "0  3a83ddb66e2ae73798bdf1d705dc0932           Eva    AL        Morgan  35621   \n",
       "1  176354c5eef714957d486009feabf195      Marianna    FL       Jackson  32446   \n",
       "2  e19a0fa00aeda885b8a436757e889bc9   Sioux Falls    SD     Minnehaha  57110   \n",
       "3  cd17d7b6d152cb6f23957346d11c3f07  New Richland    MN        Waseca  56072   \n",
       "4  d2f0425877b10ed6bb381f3e2579424a    West Point    VA  King William  23181   \n",
       "\n",
       "        Lat       Lng  Population      Area          Timezone  \\\n",
       "0  34.34960 -86.72508        2951  Suburban   America/Chicago   \n",
       "1  30.84513 -85.22907       11303     Urban   America/Chicago   \n",
       "2  43.54321 -96.63772       17125  Suburban   America/Chicago   \n",
       "3  43.89744 -93.51479        2162  Suburban   America/Chicago   \n",
       "4  37.59894 -76.88958        5287     Rural  America/New_York   \n",
       "\n",
       "                                Job  Children   Age  \\\n",
       "0  Psychologist, sport and exercise       1.0  53.0   \n",
       "1      Community development worker       3.0  51.0   \n",
       "2           Chief Executive Officer       3.0  53.0   \n",
       "3               Early years teacher       0.0  78.0   \n",
       "4       Health promotion specialist       NaN  22.0   \n",
       "\n",
       "                                  Education Employment    Income   Marital  \\\n",
       "0            Some College, Less than 1 Year  Full Time  86575.93  Divorced   \n",
       "1  Some College, 1 or More Years, No Degree  Full Time  46805.99   Married   \n",
       "2  Some College, 1 or More Years, No Degree    Retired  14370.14   Widowed   \n",
       "3             GED or Alternative Credential    Retired  39741.49   Married   \n",
       "4               Regular High School Diploma  Full Time   1209.56   Widowed   \n",
       "\n",
       "   Gender ReAdmis  VitD_levels  Doc_visits  Full_meals_eaten  VitD_supp  \\\n",
       "0    Male      No    17.802330           6                 0          0   \n",
       "1  Female      No    18.994640           4                 2          1   \n",
       "2  Female      No    17.415889           4                 1          0   \n",
       "3    Male      No    17.420079           4                 1          0   \n",
       "4  Female      No    16.870524           5                 0          2   \n",
       "\n",
       "  Soft_drink        Initial_admin HighBlood Stroke Complication_risk  \\\n",
       "0        NaN  Emergency Admission       Yes     No            Medium   \n",
       "1         No  Emergency Admission       Yes     No              High   \n",
       "2         No   Elective Admission       Yes     No            Medium   \n",
       "3         No   Elective Admission        No    Yes            Medium   \n",
       "4        Yes   Elective Admission        No     No               Low   \n",
       "\n",
       "   Overweight Arthritis Diabetes Hyperlipidemia BackPain  Anxiety  \\\n",
       "0         0.0       Yes      Yes             No      Yes      1.0   \n",
       "1         1.0        No       No             No       No      NaN   \n",
       "2         1.0        No      Yes             No       No      NaN   \n",
       "3         0.0       Yes       No             No       No      NaN   \n",
       "4         0.0        No       No            Yes       No      0.0   \n",
       "\n",
       "  Allergic_rhinitis Reflux_esophagitis Asthma     Services  Initial_days  \\\n",
       "0               Yes                 No    Yes   Blood Work     10.585770   \n",
       "1                No                Yes     No  Intravenous     15.129562   \n",
       "2                No                 No     No   Blood Work      4.772177   \n",
       "3                No                Yes    Yes   Blood Work      1.714879   \n",
       "4               Yes                 No     No      CT Scan      1.254807   \n",
       "\n",
       "   TotalCharge  Additional_charges  Item1  Item2  Item3  Item4  Item5  Item6  \\\n",
       "0  3191.048774        17939.403420      3      3      2      2      4      3   \n",
       "1  4214.905346        17612.998120      3      4      3      4      4      4   \n",
       "2  2177.586768        17505.192460      2      4      4      4      3      4   \n",
       "3  2465.118965        12993.437350      3      5      5      3      4      5   \n",
       "4  1885.655137         3716.525786      2      1      3      3      5      3   \n",
       "\n",
       "   Item7  Item8  \n",
       "0      3      4  \n",
       "1      3      3  \n",
       "2      3      3  \n",
       "3      5      5  \n",
       "4      4      3  "
      ]
     },
     "execution_count": 3,
     "metadata": {},
     "output_type": "execute_result"
    }
   ],
   "source": [
    "# by utilizing the dataframes head method we can view the first 5 rows of our dat aframe\n",
    "df.head()"
   ]
  },
  {
   "cell_type": "markdown",
   "metadata": {},
   "source": [
    "##### Observations after visual review of data structure\n",
    "1. Their is an unamed row that apears in our data set containing an integer value. Although it apears to be an index row it would be unsave to make such an assumption as it does not show this in the data dictionary. There for to midigate confusion it will be removed. \n",
    "2. Their does not apear to be an index row in the data frame that adhears to the python convention of indexing begining with 0. due to this an index will be created and added to the dataframe.\n",
    "3. The columns  \"Overweight\" and \"Anxietey\" store boolean values as 0 or 1. While this may be acceptable in many data sets it deviates from the standards set forth in the data dictionary. To mitigate this we will convert the 0 values to \"no\" and the 1 values to \"yes\" to better comply with the standards of the data set.\n"
   ]
  },
  {
   "cell_type": "code",
   "execution_count": 4,
   "metadata": {},
   "outputs": [],
   "source": [
    "# Removing the unnamed and unidentified  column from the dataset\n",
    "# adding an \"ID\" column for reference thruout the cleaning process\n",
    "df.drop([\"Unnamed: 0\",\"Interaction\",\"UID\",\"CaseOrder\"], axis=1, inplace=True)\n",
    "df[\"ID\"] = pd.Series(range(0,10000))"
   ]
  },
  {
   "cell_type": "code",
   "execution_count": 5,
   "metadata": {},
   "outputs": [
    {
     "data": {
      "text/plain": [
       "Index(['Customer_id', 'City', 'State', 'County', 'Zip', 'Lat', 'Lng',\n",
       "       'Population', 'Area', 'Timezone', 'Job', 'Children', 'Age', 'Education',\n",
       "       'Employment', 'Income', 'Marital', 'Gender', 'ReAdmis', 'VitD_levels',\n",
       "       'Doc_visits', 'Full_meals_eaten', 'VitD_supp', 'Soft_drink',\n",
       "       'Initial_admin', 'HighBlood', 'Stroke', 'Complication_risk',\n",
       "       'Overweight', 'Arthritis', 'Diabetes', 'Hyperlipidemia', 'BackPain',\n",
       "       'Anxiety', 'Allergic_rhinitis', 'Reflux_esophagitis', 'Asthma',\n",
       "       'Services', 'Initial_days', 'TotalCharge', 'Additional_charges',\n",
       "       'Item1', 'Item2', 'Item3', 'Item4', 'Item5', 'Item6', 'Item7', 'Item8',\n",
       "       'ID'],\n",
       "      dtype='object')"
      ]
     },
     "execution_count": 5,
     "metadata": {},
     "output_type": "execute_result"
    }
   ],
   "source": [
    "# Lising columns to insure the unnamed column has been fropped and the id column has been added\n",
    "df.columns"
   ]
  },
  {
   "cell_type": "code",
   "execution_count": 6,
   "metadata": {},
   "outputs": [
    {
     "data": {
      "text/html": [
       "<div>\n",
       "<style scoped>\n",
       "    .dataframe tbody tr th:only-of-type {\n",
       "        vertical-align: middle;\n",
       "    }\n",
       "\n",
       "    .dataframe tbody tr th {\n",
       "        vertical-align: top;\n",
       "    }\n",
       "\n",
       "    .dataframe thead th {\n",
       "        text-align: right;\n",
       "    }\n",
       "</style>\n",
       "<table border=\"1\" class=\"dataframe\">\n",
       "  <thead>\n",
       "    <tr style=\"text-align: right;\">\n",
       "      <th></th>\n",
       "      <th>Anxiety</th>\n",
       "      <th>Overweight</th>\n",
       "    </tr>\n",
       "  </thead>\n",
       "  <tbody>\n",
       "    <tr>\n",
       "      <th>0</th>\n",
       "      <td>Yes</td>\n",
       "      <td>No</td>\n",
       "    </tr>\n",
       "    <tr>\n",
       "      <th>1</th>\n",
       "      <td>NaN</td>\n",
       "      <td>Yes</td>\n",
       "    </tr>\n",
       "    <tr>\n",
       "      <th>2</th>\n",
       "      <td>NaN</td>\n",
       "      <td>Yes</td>\n",
       "    </tr>\n",
       "    <tr>\n",
       "      <th>3</th>\n",
       "      <td>NaN</td>\n",
       "      <td>No</td>\n",
       "    </tr>\n",
       "    <tr>\n",
       "      <th>4</th>\n",
       "      <td>No</td>\n",
       "      <td>No</td>\n",
       "    </tr>\n",
       "    <tr>\n",
       "      <th>...</th>\n",
       "      <td>...</td>\n",
       "      <td>...</td>\n",
       "    </tr>\n",
       "    <tr>\n",
       "      <th>9995</th>\n",
       "      <td>Yes</td>\n",
       "      <td>NaN</td>\n",
       "    </tr>\n",
       "    <tr>\n",
       "      <th>9996</th>\n",
       "      <td>No</td>\n",
       "      <td>Yes</td>\n",
       "    </tr>\n",
       "    <tr>\n",
       "      <th>9997</th>\n",
       "      <td>Yes</td>\n",
       "      <td>Yes</td>\n",
       "    </tr>\n",
       "    <tr>\n",
       "      <th>9998</th>\n",
       "      <td>No</td>\n",
       "      <td>Yes</td>\n",
       "    </tr>\n",
       "    <tr>\n",
       "      <th>9999</th>\n",
       "      <td>No</td>\n",
       "      <td>Yes</td>\n",
       "    </tr>\n",
       "  </tbody>\n",
       "</table>\n",
       "<p>10000 rows × 2 columns</p>\n",
       "</div>"
      ],
      "text/plain": [
       "     Anxiety Overweight\n",
       "0        Yes         No\n",
       "1        NaN        Yes\n",
       "2        NaN        Yes\n",
       "3        NaN         No\n",
       "4         No         No\n",
       "...      ...        ...\n",
       "9995     Yes        NaN\n",
       "9996      No        Yes\n",
       "9997     Yes        Yes\n",
       "9998      No        Yes\n",
       "9999      No        Yes\n",
       "\n",
       "[10000 rows x 2 columns]"
      ]
     },
     "execution_count": 6,
     "metadata": {},
     "output_type": "execute_result"
    }
   ],
   "source": [
    "# defined a dunction to convert digital booleans into strings complient with our data dictionary\n",
    "# used pandas apply method and a lambda function to converet the \"Anxiety\" and \"Overweight\" columns to \n",
    "# a complient format\n",
    "# Then reused the head method to ensure the change had been made sucsesfully\n",
    "def digitalBool_to_string(s):\n",
    "    if s == 1.0 or s == \"Yes\":\n",
    "        return \"Yes\"\n",
    "    elif s == 0.0 or s == \"No\":\n",
    "        return \"No\"\n",
    "    else:\n",
    "        return np.nan\n",
    "\n",
    "df[\"Anxiety\"] = df[\"Anxiety\"].apply(lambda s: digitalBool_to_string(s))\n",
    "df[\"Overweight\"] = df[\"Overweight\"].apply(lambda s: digitalBool_to_string(s))\n",
    "df.loc[:,[\"Anxiety\", \"Overweight\"]]"
   ]
  },
  {
   "cell_type": "code",
   "execution_count": null,
   "metadata": {},
   "outputs": [],
   "source": []
  },
  {
   "cell_type": "markdown",
   "metadata": {},
   "source": [
    "#### Check for Duplicate data "
   ]
  },
  {
   "cell_type": "code",
   "execution_count": 7,
   "metadata": {},
   "outputs": [
    {
     "data": {
      "text/plain": [
       "False    10000\n",
       "dtype: int64"
      ]
     },
     "execution_count": 7,
     "metadata": {},
     "output_type": "execute_result"
    }
   ],
   "source": [
    "# using pandas dataframe duplicated method which sets a row to True if it is a duplicate and False if it is not\n",
    "# then we use the value_counts method to determan the number of rows that evaluated to true\n",
    "df.duplicated().value_counts()"
   ]
  },
  {
   "cell_type": "markdown",
   "metadata": {},
   "source": [
    "#### Checking for consistency in Categorical Names"
   ]
  },
  {
   "cell_type": "code",
   "execution_count": 8,
   "metadata": {},
   "outputs": [
    {
     "data": {
      "text/plain": [
       "Regular High School Diploma                 2444\n",
       "Bachelor's Degree                           1724\n",
       "Some College, 1 or More Years, No Degree    1484\n",
       "9th Grade to 12th Grade, No Diploma          832\n",
       "Associate's Degree                           797\n",
       "Master's Degree                              701\n",
       "Some College, Less than 1 Year               642\n",
       "Nursery School to 8th Grade                  552\n",
       "GED or Alternative Credential                389\n",
       "Professional School Degree                   208\n",
       "No Schooling Completed                       133\n",
       "Doctorate Degree                              94\n",
       "Name: Education, dtype: int64"
      ]
     },
     "execution_count": 8,
     "metadata": {},
     "output_type": "execute_result"
    }
   ],
   "source": [
    "# All unique categories seem consistent and without repeats\n",
    "df[\"Education\"].value_counts()"
   ]
  },
  {
   "cell_type": "code",
   "execution_count": 9,
   "metadata": {},
   "outputs": [
    {
     "data": {
      "text/plain": [
       "Rural       3369\n",
       "Suburban    3328\n",
       "Urban       3303\n",
       "Name: Area, dtype: int64"
      ]
     },
     "execution_count": 9,
     "metadata": {},
     "output_type": "execute_result"
    }
   ],
   "source": [
    "# All unique categories seem consistent and without repeats\n",
    "df[\"Area\"].value_counts()"
   ]
  },
  {
   "cell_type": "code",
   "execution_count": 10,
   "metadata": {},
   "outputs": [
    {
     "data": {
      "text/plain": [
       "Outdoor activities/education manager     29\n",
       "Theatre director                         27\n",
       "Exhibition designer                      27\n",
       "Scientist, audiological                  26\n",
       "Marketing executive                      25\n",
       "                                         ..\n",
       "Public relations account executive        6\n",
       "Engineer, control and instrumentation     6\n",
       "Licensed conveyancer                      6\n",
       "Phytotherapist                            6\n",
       "Government social research officer        6\n",
       "Name: Job, Length: 639, dtype: int64"
      ]
     },
     "execution_count": 10,
     "metadata": {},
     "output_type": "execute_result"
    }
   ],
   "source": [
    "df[\"Job\"].value_counts()"
   ]
  },
  {
   "cell_type": "code",
   "execution_count": 11,
   "metadata": {},
   "outputs": [
    {
     "data": {
      "text/plain": [
       "639"
      ]
     },
     "execution_count": 11,
     "metadata": {},
     "output_type": "execute_result"
    }
   ],
   "source": [
    "# Asses the number of unique data sets\n",
    "# the quantity and diversity is large enough on this categorical column that its \n",
    "#usefulness as it stands is in question bellow is the quantity of categories\n",
    "len(df[\"Job\"].unique())"
   ]
  },
  {
   "cell_type": "code",
   "execution_count": 12,
   "metadata": {},
   "outputs": [
    {
     "data": {
      "text/plain": [
       "array(['Full Time', 'Retired', 'Unemployed', 'Student', 'Part Time'],\n",
       "      dtype=object)"
      ]
     },
     "execution_count": 12,
     "metadata": {},
     "output_type": "execute_result"
    }
   ],
   "source": [
    "# All unique categories seem consistent and without repeats\n",
    "df[\"Employment\"].unique()"
   ]
  },
  {
   "cell_type": "code",
   "execution_count": 13,
   "metadata": {},
   "outputs": [
    {
     "data": {
      "text/plain": [
       "array(['Divorced', 'Married', 'Widowed', 'Never Married', 'Separated'],\n",
       "      dtype=object)"
      ]
     },
     "execution_count": 13,
     "metadata": {},
     "output_type": "execute_result"
    }
   ],
   "source": [
    "# All unique categories seem consistent and without repeats\n",
    "df[\"Marital\"].unique()"
   ]
  },
  {
   "cell_type": "code",
   "execution_count": 14,
   "metadata": {},
   "outputs": [
    {
     "data": {
      "text/plain": [
       "array(['Medium', 'High', 'Low'], dtype=object)"
      ]
     },
     "execution_count": 14,
     "metadata": {},
     "output_type": "execute_result"
    }
   ],
   "source": [
    "# All unique categories seem consistent and without repeats\n",
    "df[\"Complication_risk\"].unique()"
   ]
  },
  {
   "cell_type": "code",
   "execution_count": 15,
   "metadata": {},
   "outputs": [
    {
     "data": {
      "text/plain": [
       "array(['Blood Work', 'Intravenous', 'CT Scan', 'MRI'], dtype=object)"
      ]
     },
     "execution_count": 15,
     "metadata": {},
     "output_type": "execute_result"
    }
   ],
   "source": [
    "# All unique categories seem consistent and without repeats\n",
    "df[\"Services\"].unique()"
   ]
  },
  {
   "cell_type": "markdown",
   "metadata": {},
   "source": [
    "### searching for missing values in data"
   ]
  },
  {
   "cell_type": "code",
   "execution_count": 16,
   "metadata": {},
   "outputs": [
    {
     "data": {
      "text/plain": [
       "Children        2588\n",
       "Age             2414\n",
       "Income          2464\n",
       "Soft_drink      2467\n",
       "Overweight       982\n",
       "Anxiety          984\n",
       "Initial_days    1056\n",
       "dtype: int64"
      ]
     },
     "execution_count": 16,
     "metadata": {},
     "output_type": "execute_result"
    }
   ],
   "source": [
    "# Gathering the sum of all null values by column\n",
    "# Filtering out columns that have a count of 0 indicating no null values found\n",
    "# displaying the number of rows with null values by column\n",
    "count_of_null_by_column = df.isnull().sum()\n",
    "nonzero = count_of_null_by_column > 0\n",
    "count_of_null_by_column[nonzero]"
   ]
  },
  {
   "cell_type": "code",
   "execution_count": 17,
   "metadata": {},
   "outputs": [
    {
     "data": {
      "text/plain": [
       "Children        25.88\n",
       "Age             24.14\n",
       "Income          24.64\n",
       "Soft_drink      24.67\n",
       "Overweight       9.82\n",
       "Anxiety          9.84\n",
       "Initial_days    10.56\n",
       "dtype: float64"
      ]
     },
     "execution_count": 17,
     "metadata": {},
     "output_type": "execute_result"
    }
   ],
   "source": [
    "# Calculating the percentage of null values in each row\n",
    "# Filtering out columns that have a count of 0 indicating no null values found\n",
    "# displaying the percentage of rows with null values by column\n",
    "percentage_of_null_by_column = (df.isnull().sum() / 10000) * 100\n",
    "nonzero = percentage_of_null_by_column > 0\n",
    "\n",
    "percentage_of_null_by_column[nonzero]"
   ]
  },
  {
   "cell_type": "markdown",
   "metadata": {},
   "source": [
    "#### Mitigation of missing variable\n",
    "Unfortunatly our data set is missing a large amount of data. Do to this we are forced to employ mitigation tactics to ensure our future anylasis is not adversly affected. We will do this in the following ways.\n",
    "1. The \"Overweight\",\"Anxiety\", \"Soft_drink\" columns all contain boolean values of either yes or no. for theas columns we will add a third categorical options which is \"Unknown\". The reason for this choice is the large percentage off missing data. Imputing the most common of the boolean values could greatly skew mesears of central tendency and imputing yes no values based on known distrabutions would create unwanted noise in the data. The new unknown category may also be its own valid point of interest in the data as patterns may apear aound the missing information.\n",
    "2. \"Children\",\"Age\", \"Income\", \"Initial_days\" For the Income and Inital_Days columns we will impute the median value in the place of missing data. This will allow for statistical anylasis to be preformed. The Children and Age columns will be converted to categorical data because the amount of data missing is not acceptable. This will allow us to avoid discarding the data due to the nearly 25% NaN rate by creating an \"Unknown\" category."
   ]
  },
  {
   "cell_type": "code",
   "execution_count": 18,
   "metadata": {},
   "outputs": [
    {
     "data": {
      "text/html": [
       "<div>\n",
       "<style scoped>\n",
       "    .dataframe tbody tr th:only-of-type {\n",
       "        vertical-align: middle;\n",
       "    }\n",
       "\n",
       "    .dataframe tbody tr th {\n",
       "        vertical-align: top;\n",
       "    }\n",
       "\n",
       "    .dataframe thead th {\n",
       "        text-align: right;\n",
       "    }\n",
       "</style>\n",
       "<table border=\"1\" class=\"dataframe\">\n",
       "  <thead>\n",
       "    <tr style=\"text-align: right;\">\n",
       "      <th></th>\n",
       "      <th>Overweight</th>\n",
       "      <th>Anxiety</th>\n",
       "      <th>Soft_drink</th>\n",
       "    </tr>\n",
       "  </thead>\n",
       "  <tbody>\n",
       "    <tr>\n",
       "      <th>count</th>\n",
       "      <td>9018</td>\n",
       "      <td>9016</td>\n",
       "      <td>7533</td>\n",
       "    </tr>\n",
       "    <tr>\n",
       "      <th>unique</th>\n",
       "      <td>2</td>\n",
       "      <td>2</td>\n",
       "      <td>2</td>\n",
       "    </tr>\n",
       "    <tr>\n",
       "      <th>top</th>\n",
       "      <td>Yes</td>\n",
       "      <td>No</td>\n",
       "      <td>No</td>\n",
       "    </tr>\n",
       "    <tr>\n",
       "      <th>freq</th>\n",
       "      <td>6395</td>\n",
       "      <td>6110</td>\n",
       "      <td>5589</td>\n",
       "    </tr>\n",
       "  </tbody>\n",
       "</table>\n",
       "</div>"
      ],
      "text/plain": [
       "       Overweight Anxiety Soft_drink\n",
       "count        9018    9016       7533\n",
       "unique          2       2          2\n",
       "top           Yes      No         No\n",
       "freq         6395    6110       5589"
      ]
     },
     "execution_count": 18,
     "metadata": {},
     "output_type": "execute_result"
    }
   ],
   "source": [
    "# using pandas describe function to asses the data before midigation\n",
    "df.loc[:,[\"Overweight\",\"Anxiety\", \"Soft_drink\"]].describe()"
   ]
  },
  {
   "cell_type": "code",
   "execution_count": 19,
   "metadata": {},
   "outputs": [],
   "source": [
    "df[\"Overweight\"].fillna(\"Unknown\", inplace=True)\n",
    "df[\"Anxiety\"].fillna(\"Unknown\", inplace=True)\n",
    "df[\"Soft_drink\"].fillna(\"Unknown\", inplace=True)"
   ]
  },
  {
   "cell_type": "code",
   "execution_count": 20,
   "metadata": {},
   "outputs": [
    {
     "data": {
      "text/plain": [
       "Children        25.88\n",
       "Age             24.14\n",
       "Income          24.64\n",
       "Initial_days    10.56\n",
       "dtype: float64"
      ]
     },
     "execution_count": 20,
     "metadata": {},
     "output_type": "execute_result"
    }
   ],
   "source": [
    "#This code is the same as previously used to show percentages of missing values by rows\n",
    "#used here to show the sucsess of midigation\n",
    "\n",
    "# Calculating the percentage of null values in each row\n",
    "# Filtering out columns that have a count of 0 indicating no null values found\n",
    "# displaying the percentage of rows with null values by column\n",
    "percentage_of_null_by_column = (df.isnull().sum() / 10000) * 100\n",
    "nonzero = percentage_of_null_by_column > 0\n",
    "\n",
    "percentage_of_null_by_column[nonzero]"
   ]
  },
  {
   "cell_type": "markdown",
   "metadata": {},
   "source": [
    "##### Midigation of missing numerical values"
   ]
  },
  {
   "cell_type": "code",
   "execution_count": 21,
   "metadata": {},
   "outputs": [
    {
     "data": {
      "text/html": [
       "<div>\n",
       "<style scoped>\n",
       "    .dataframe tbody tr th:only-of-type {\n",
       "        vertical-align: middle;\n",
       "    }\n",
       "\n",
       "    .dataframe tbody tr th {\n",
       "        vertical-align: top;\n",
       "    }\n",
       "\n",
       "    .dataframe thead th {\n",
       "        text-align: right;\n",
       "    }\n",
       "</style>\n",
       "<table border=\"1\" class=\"dataframe\">\n",
       "  <thead>\n",
       "    <tr style=\"text-align: right;\">\n",
       "      <th></th>\n",
       "      <th>Children</th>\n",
       "      <th>Age</th>\n",
       "      <th>Income</th>\n",
       "      <th>Initial_days</th>\n",
       "    </tr>\n",
       "  </thead>\n",
       "  <tbody>\n",
       "    <tr>\n",
       "      <th>count</th>\n",
       "      <td>7412.000000</td>\n",
       "      <td>7586.000000</td>\n",
       "      <td>7536.000000</td>\n",
       "      <td>8944.000000</td>\n",
       "    </tr>\n",
       "    <tr>\n",
       "      <th>mean</th>\n",
       "      <td>2.098219</td>\n",
       "      <td>53.295676</td>\n",
       "      <td>40484.438268</td>\n",
       "      <td>34.432082</td>\n",
       "    </tr>\n",
       "    <tr>\n",
       "      <th>std</th>\n",
       "      <td>2.155427</td>\n",
       "      <td>20.659182</td>\n",
       "      <td>28664.861050</td>\n",
       "      <td>26.287050</td>\n",
       "    </tr>\n",
       "    <tr>\n",
       "      <th>min</th>\n",
       "      <td>0.000000</td>\n",
       "      <td>18.000000</td>\n",
       "      <td>154.080000</td>\n",
       "      <td>1.001981</td>\n",
       "    </tr>\n",
       "    <tr>\n",
       "      <th>25%</th>\n",
       "      <td>0.000000</td>\n",
       "      <td>35.000000</td>\n",
       "      <td>19450.792500</td>\n",
       "      <td>7.911709</td>\n",
       "    </tr>\n",
       "    <tr>\n",
       "      <th>50%</th>\n",
       "      <td>1.000000</td>\n",
       "      <td>53.000000</td>\n",
       "      <td>33942.280000</td>\n",
       "      <td>34.446941</td>\n",
       "    </tr>\n",
       "    <tr>\n",
       "      <th>75%</th>\n",
       "      <td>3.000000</td>\n",
       "      <td>71.000000</td>\n",
       "      <td>54075.235000</td>\n",
       "      <td>61.124654</td>\n",
       "    </tr>\n",
       "    <tr>\n",
       "      <th>max</th>\n",
       "      <td>10.000000</td>\n",
       "      <td>89.000000</td>\n",
       "      <td>207249.130000</td>\n",
       "      <td>71.981486</td>\n",
       "    </tr>\n",
       "  </tbody>\n",
       "</table>\n",
       "</div>"
      ],
      "text/plain": [
       "          Children          Age         Income  Initial_days\n",
       "count  7412.000000  7586.000000    7536.000000   8944.000000\n",
       "mean      2.098219    53.295676   40484.438268     34.432082\n",
       "std       2.155427    20.659182   28664.861050     26.287050\n",
       "min       0.000000    18.000000     154.080000      1.001981\n",
       "25%       0.000000    35.000000   19450.792500      7.911709\n",
       "50%       1.000000    53.000000   33942.280000     34.446941\n",
       "75%       3.000000    71.000000   54075.235000     61.124654\n",
       "max      10.000000    89.000000  207249.130000     71.981486"
      ]
     },
     "execution_count": 21,
     "metadata": {},
     "output_type": "execute_result"
    }
   ],
   "source": [
    "# # using pandas describe function to asses the data before midigation\n",
    "df.loc[:,[\"Children\",\"Age\", \"Income\", \"Initial_days\"]].describe()"
   ]
  },
  {
   "cell_type": "code",
   "execution_count": 22,
   "metadata": {},
   "outputs": [],
   "source": [
    "# using pandas build in fill na method to replace missing values with the median value of the column\n",
    "df[\"Income\"].fillna(df[\"Income\"].median(), inplace=True)\n",
    "df[\"Initial_days\"].fillna(df[\"Initial_days\"].median(), inplace=True)\n"
   ]
  },
  {
   "cell_type": "code",
   "execution_count": 23,
   "metadata": {},
   "outputs": [
    {
     "data": {
      "text/plain": [
       "0           1-2\n",
       "1           3-5\n",
       "2           3-5\n",
       "3          None\n",
       "4       Unknown\n",
       "         ...   \n",
       "9995    Unknown\n",
       "9996        3-5\n",
       "9997        3-5\n",
       "9998        3-5\n",
       "9999         6+\n",
       "Name: Children, Length: 10000, dtype: object"
      ]
     },
     "execution_count": 23,
     "metadata": {},
     "output_type": "execute_result"
    }
   ],
   "source": [
    "# define a function to break down numerical \"Children\" data into categorical data\n",
    "def number_of_children_categories(s):\n",
    "    if type(s) == str:\n",
    "        return s\n",
    "        \n",
    "    if s == 0:\n",
    "        return \"None\"\n",
    "    elif s <= 2:\n",
    "        return \"1-2\"\n",
    "    elif s < 6:\n",
    "        return \"3-5\"\n",
    "    elif s >= 6:\n",
    "        return \"6+\"\n",
    "\n",
    "# Convert numerical value of children to a categorical value\n",
    "df[\"Children\"] = df[\"Children\"].apply(lambda s: number_of_children_categories(s))\n",
    "# replacing missing values in data to \"Unknown\"\n",
    "df[\"Children\"].fillna( \"Unknown\", inplace=True)\n",
    "\n",
    "# Display Children column to check for desired outcomes\n",
    "df[\"Children\"]"
   ]
  },
  {
   "cell_type": "code",
   "execution_count": 24,
   "metadata": {},
   "outputs": [
    {
     "data": {
      "text/plain": [
       "0         50-69\n",
       "1         50-69\n",
       "2         50-69\n",
       "3           70+\n",
       "4          0-29\n",
       "         ...   \n",
       "9995       0-29\n",
       "9996        70+\n",
       "9997    Unknown\n",
       "9998      30-49\n",
       "9999    Unknown\n",
       "Name: Age, Length: 10000, dtype: object"
      ]
     },
     "execution_count": 24,
     "metadata": {},
     "output_type": "execute_result"
    }
   ],
   "source": [
    "# define a function to break down numerical \"Age\" data into categorical data\n",
    "def age_to_categories(s):\n",
    "    if type(s) == str:\n",
    "        return s\n",
    "        \n",
    "    if s < 30:\n",
    "        return \"0-29\"\n",
    "    elif s < 50:\n",
    "        return \"30-49\"\n",
    "    elif s < 70:\n",
    "        return \"50-69\"\n",
    "    elif s >= 70 :\n",
    "        return \"70+\"\n",
    "\n",
    "# Convert numerical value of age to a categorical value\n",
    "df[\"Age\"] = df[\"Age\"].apply(lambda s: age_to_categories(s))\n",
    "# replacing missing values in data to \"Unknown\"\n",
    "df[\"Age\"].fillna( \"Unknown\", inplace=True)\n",
    "\n",
    "# Display Age column to check for desired outcomes\n",
    "df[\"Age\"]"
   ]
  },
  {
   "cell_type": "code",
   "execution_count": 25,
   "metadata": {},
   "outputs": [
    {
     "data": {
      "text/plain": [
       "Series([], dtype: float64)"
      ]
     },
     "execution_count": 25,
     "metadata": {},
     "output_type": "execute_result"
    }
   ],
   "source": [
    "#This code is the same as previously used to show percentages of missing values by rows\n",
    "#used here to show the sucsess of midigation\n",
    "\n",
    "# Calculating the percentage of null values in each row\n",
    "# Filtering out columns that have a count of 0 indicating no null values found\n",
    "# displaying the percentage of rows with null values by column\n",
    "percentage_of_null_by_column = (df.isnull().sum() / 10000) * 100\n",
    "nonzero = percentage_of_null_by_column > 0\n",
    "\n",
    "percentage_of_null_by_column[nonzero]"
   ]
  },
  {
   "cell_type": "markdown",
   "metadata": {},
   "source": [
    "#### Discover of Outliers"
   ]
  },
  {
   "cell_type": "code",
   "execution_count": 26,
   "metadata": {},
   "outputs": [
    {
     "data": {
      "image/png": "[encoded data removed]",
      "text/plain": [
       "<Figure size 1080x720 with 6 Axes>"
      ]
     },
     "metadata": {},
     "output_type": "display_data"
    }
   ],
   "source": [
    "# Create histograms Numerical values to identify outliers\n",
    "# Using pandas and matplot lib\n",
    "plots = df[['Income', \"TotalCharge\",\"VitD_levels\", \"Doc_visits\", \"Full_meals_eaten\", \"Additional_charges\"]].hist(figsize=(15, 10))\n",
    "plt.tight_layout()\n",
    "plt.show()"
   ]
  },
  {
   "cell_type": "code",
   "execution_count": null,
   "metadata": {},
   "outputs": [],
   "source": []
  },
  {
   "cell_type": "code",
   "execution_count": 27,
   "metadata": {},
   "outputs": [
    {
     "data": {
      "image/png": "[encoded data removed]",
      "text/plain": [
       "<Figure size 1440x360 with 1 Axes>"
      ]
     },
     "metadata": {},
     "output_type": "display_data"
    }
   ],
   "source": [
    "# 1. Standardize all numerical data\n",
    "# 2. Use Box Plots of all numerical data to observe outliers\n",
    "\n",
    "std_income_data = (df[\"Income\"] - df[\"Income\"].mean()) /df[\"Income\"].std()\n",
    "std_total_charge = (df[\"TotalCharge\"] - df[\"TotalCharge\"].mean()) /df[\"TotalCharge\"].std()\n",
    "std_vitd_data = (df[\"VitD_levels\"] - df[\"VitD_levels\"].mean()) /df[\"VitD_levels\"].std()\n",
    "std_docvisit_data = (df[\"Doc_visits\"] - df[\"Doc_visits\"].mean()) /df[\"Doc_visits\"].std()\n",
    "std_Full_meals_eaten = (df[\"Full_meals_eaten\"] - df[\"Full_meals_eaten\"].mean()) /df[\"Full_meals_eaten\"].std()\n",
    "std_Additional_charges = (df[\"Additional_charges\"] - df[\"Additional_charges\"].mean()) /df[\"Additional_charges\"].std()\n",
    "\n",
    "plt.figure(figsize=(20,5)) \n",
    "plt.title(\"Numerical Values Distribution\", size=18)\n",
    "plt.boxplot([\n",
    "    std_income_data,\n",
    "    std_total_charge,\n",
    "    std_vitd_data,\n",
    "    std_docvisit_data,\n",
    "    std_Full_meals_eaten, # Concerned that this is mearly a function of time in hospital\n",
    "    std_Additional_charges\n",
    "]) \n",
    "plt.xticks(\n",
    "    [1,2,3,4,5, 6],\n",
    "    [\n",
    "    \"Income Data\",\n",
    "    \"Total Charge\",\n",
    "    \"VitD Levels\",\n",
    "    \"Number of DR Visits\",\n",
    "    \"Number of Full meals Eaten\",\n",
    "    \"Additional Charges\"\n",
    "    ],\n",
    "    rotation=45,\n",
    "    size=14\n",
    "           \n",
    ")\n",
    "plt.show()"
   ]
  },
  {
   "cell_type": "markdown",
   "metadata": {},
   "source": [
    "#### Survey Item Check\n",
    "Survey questions are allowed contain integer values between 1 and 8. This check will determin that no values exist outside of those constraints"
   ]
  },
  {
   "cell_type": "code",
   "execution_count": 28,
   "metadata": {},
   "outputs": [
    {
     "data": {
      "text/html": [
       "<div>\n",
       "<style scoped>\n",
       "    .dataframe tbody tr th:only-of-type {\n",
       "        vertical-align: middle;\n",
       "    }\n",
       "\n",
       "    .dataframe tbody tr th {\n",
       "        vertical-align: top;\n",
       "    }\n",
       "\n",
       "    .dataframe thead th {\n",
       "        text-align: right;\n",
       "    }\n",
       "</style>\n",
       "<table border=\"1\" class=\"dataframe\">\n",
       "  <thead>\n",
       "    <tr style=\"text-align: right;\">\n",
       "      <th></th>\n",
       "      <th>Item1</th>\n",
       "      <th>Item2</th>\n",
       "      <th>Item3</th>\n",
       "      <th>Item4</th>\n",
       "      <th>Item5</th>\n",
       "      <th>Item6</th>\n",
       "      <th>Item7</th>\n",
       "      <th>Item8</th>\n",
       "    </tr>\n",
       "  </thead>\n",
       "  <tbody>\n",
       "    <tr>\n",
       "      <th>count</th>\n",
       "      <td>10000.0</td>\n",
       "      <td>10000.0</td>\n",
       "      <td>10000.0</td>\n",
       "      <td>10000.0</td>\n",
       "      <td>10000.0</td>\n",
       "      <td>10000.0</td>\n",
       "      <td>10000.0</td>\n",
       "      <td>10000.0</td>\n",
       "    </tr>\n",
       "    <tr>\n",
       "      <th>min</th>\n",
       "      <td>1.0</td>\n",
       "      <td>1.0</td>\n",
       "      <td>1.0</td>\n",
       "      <td>1.0</td>\n",
       "      <td>1.0</td>\n",
       "      <td>1.0</td>\n",
       "      <td>1.0</td>\n",
       "      <td>1.0</td>\n",
       "    </tr>\n",
       "    <tr>\n",
       "      <th>max</th>\n",
       "      <td>8.0</td>\n",
       "      <td>7.0</td>\n",
       "      <td>8.0</td>\n",
       "      <td>7.0</td>\n",
       "      <td>7.0</td>\n",
       "      <td>7.0</td>\n",
       "      <td>7.0</td>\n",
       "      <td>7.0</td>\n",
       "    </tr>\n",
       "  </tbody>\n",
       "</table>\n",
       "</div>"
      ],
      "text/plain": [
       "         Item1    Item2    Item3    Item4    Item5    Item6    Item7    Item8\n",
       "count  10000.0  10000.0  10000.0  10000.0  10000.0  10000.0  10000.0  10000.0\n",
       "min        1.0      1.0      1.0      1.0      1.0      1.0      1.0      1.0\n",
       "max        8.0      7.0      8.0      7.0      7.0      7.0      7.0      7.0"
      ]
     },
     "execution_count": 28,
     "metadata": {},
     "output_type": "execute_result"
    }
   ],
   "source": [
    "# This query shows that all values are accounted for in the \"count\" row\n",
    "# the min and max indicates that the max and min value in each row is within the acceptable range\n",
    "\n",
    "df.loc[:, \"Item1\":\"Item8\"].describe().iloc[[0,3,-1]]"
   ]
  },
  {
   "cell_type": "code",
   "execution_count": 29,
   "metadata": {},
   "outputs": [
    {
     "name": "stdout",
     "output_type": "stream",
     "text": [
      "<class 'pandas.core.frame.DataFrame'>\n",
      "RangeIndex: 10000 entries, 0 to 9999\n",
      "Data columns (total 8 columns):\n",
      " #   Column  Non-Null Count  Dtype\n",
      "---  ------  --------------  -----\n",
      " 0   Item1   10000 non-null  int64\n",
      " 1   Item2   10000 non-null  int64\n",
      " 2   Item3   10000 non-null  int64\n",
      " 3   Item4   10000 non-null  int64\n",
      " 4   Item5   10000 non-null  int64\n",
      " 5   Item6   10000 non-null  int64\n",
      " 6   Item7   10000 non-null  int64\n",
      " 7   Item8   10000 non-null  int64\n",
      "dtypes: int64(8)\n",
      "memory usage: 625.1 KB\n"
     ]
    }
   ],
   "source": [
    "# this query shows the data type and the counts\n",
    "df.loc[:, \"Item1\":\"Item8\"].info()"
   ]
  },
  {
   "cell_type": "code",
   "execution_count": null,
   "metadata": {},
   "outputs": [],
   "source": []
  },
  {
   "cell_type": "markdown",
   "metadata": {},
   "source": [
    "## Part III: Data Cleaning"
   ]
  },
  {
   "cell_type": "markdown",
   "metadata": {},
   "source": [
    "#### D1: Cleaning Findings\n",
    "The initial examination revealed an unidentified column that appeared to be an old index column. This column was removed and replaced with a more accurate ID column. While comparing the head of the dataframe the anxiety and overweight columns stood out as not adhearing to the correct format described in the data dictionary.\n",
    "\n",
    "During our check for duplicates, it was found that there were no repeated rows in our data set. During this, it was also noted that there was no inconsistency in categorical data labels in the data set. The only potential exception to this was the “job” column which contained 639 unique values. A more in-depth analysis of the job titles would be needed to guarantee the integrity of the categories. \n",
    "\n",
    "The data set contained a high amount of missing values. The “children”, “age”, “income” and ”soft_drink” columns were around 25% Na or NAN. The “Overweight”, “Anxiety” and “inital_days” columns were around 10% Na or NAN.  This creates a large issue for future analysis.\n",
    "\n",
    "The findings of our outlier analysis showed quite a few columns containing outliers. The “Full meals” column contained only a few outliers. The  “Vit D levels” column contained outliers on both ends of the normal range with quite a few outliers well beyond 2 standard deviations away. The income and charge data also contained outliers that were not unexpected.\n",
    "\n",
    "The analysis of the survey data revealed a normal range with nothing of note.\n",
    "\n"
   ]
  },
  {
   "cell_type": "markdown",
   "metadata": {},
   "source": [
    "#### D2: Justification of Methods\n",
    "\n",
    "The \"Overweight\", \"Anxiety\", \"Soft_drink\" columns all contain boolean values of either yes or no. for these columns we added a third categorical option which is \"Unknown\". The reason for this choice is the large percentage of missing data. Imputing the most common of the boolean values could greatly skew measures of central tendency and imputing yes no values based on known distributions would create unwanted noise in the data. The new unknown category may also be its valid point of interest in the data as patterns may appear around the missing information.\n",
    "\n",
    "\"Children\", \"Age\", \"Income\", \"Initial_days\" For the Income and Inital_Days columns we will impute the median value in the place of missing data. This will allow for statistical analysis to be performed. The Children and Age columns will be converted to categorical data because the amount of data missing is not acceptable. This will allow us to avoid discarding the data due to the nearly 25% NaN rate by creating an \"Unknown\" category.\n",
    "\n",
    "In terms of handling outliers, we chose to leave the outliers in the dataset. The charges as well as the income data while containing many outliers align well with common knowledge of income distribution across the globe. The charge data also does not indicate that the outliers are errors as it can be assumed that there would be certain cases that acquire a large charge. The full meals column contains outliers and would need a consult from a subject matter expert at the hospital to determine if this was an error so nothing can be done before that. The Vit D level outliers also need a consult with a medical expert before determining if the outliers are errors in readings or simply extreme cases.\n",
    "\n"
   ]
  },
  {
   "cell_type": "markdown",
   "metadata": {},
   "source": [
    "#### D3: Summary of Outcomes\n",
    "- Removing the unidentified column and replacing it with the ID index column created clarity and consistency for future analysis\n",
    "- Standardizing the boolean fields in line with the data dictionary allows for greater confidence going into the next phase of the data analytics life cycle\n",
    "- Scanning for duplicates in the data set and the categorical data also increases confidence in future analysis by ensuring data consistency and integrity\n",
    "- Replacing missing boolean values with an unknown category creates a third type of data point to the target in future analysis\n",
    "- Replacing missing numerical values with the median allows for consistency in statistical analysis and will reduce errors encountered in later analysis\n",
    "- Converting numerical value columns with categorical labels allows us to continue using data even in light of the high percentage of missing values. The dictionary will need to be updated to note the new categorical values\n",
    "- The decision to leave the categories containing outliers will not affect the data set as it stands but will be important to remember as the analysis progresses.\n"
   ]
  },
  {
   "cell_type": "markdown",
   "metadata": {},
   "source": [
    "#### D4: See Code above and panopto presentation"
   ]
  },
  {
   "cell_type": "markdown",
   "metadata": {},
   "source": [
    "#### D5: See attached d206_clean.csv"
   ]
  },
  {
   "cell_type": "code",
   "execution_count": 30,
   "metadata": {},
   "outputs": [],
   "source": [
    "# Extract Clean dataset\n",
    "df.to_csv('d206_clean.csv')"
   ]
  },
  {
   "cell_type": "markdown",
   "metadata": {},
   "source": [
    "#### D6: Limitations\n",
    "The limitations to this data cleaning project can be summarized by two factors. The first is a lack of domain knowledge. Without an understanding of the medical field is difficult to assess if outliers are errors or simply extraordinary circumstances. The second factor is access to the collectors of data. Without being able to contact the individuals or departments that were responsible for gathering the data it is not possible to determine the reason certain values are missing or skewed."
   ]
  },
  {
   "cell_type": "markdown",
   "metadata": {},
   "source": [
    "#### D7: Effect of limitations\n",
    "The limitations of access and domain knowledge may inhibit the ability of analysts to determine key factors in data. This is since someone with domain knowledge will have more clear insights into the meaning of the collected data more than someone who does not. However, an inverse relationship may occur where since the analyst does not have domain knowledge he may be able to discover key factors that a subject matter expert may be blind to due to bias. \n",
    "\n",
    "The limitations of access to the collectors of data will limit the ability of the analyst to increase the precision of the model beyond a certain point as data can not be recovered thru interviews with the collectors of the data.\n",
    "\n",
    "\n",
    "The limitations of access to the collectors of data will limit the ability of the analyst to increase the precision of the model beyond a certain point as data can not be recovered thru interviews with the collectors of the data.\n"
   ]
  },
  {
   "cell_type": "markdown",
   "metadata": {},
   "source": [
    "### Principle Component Anylassis"
   ]
  },
  {
   "cell_type": "code",
   "execution_count": 31,
   "metadata": {},
   "outputs": [],
   "source": [
    "from sklearn.preprocessing import scale\n",
    "from sklearn.decomposition import PCA"
   ]
  },
  {
   "cell_type": "code",
   "execution_count": 32,
   "metadata": {},
   "outputs": [],
   "source": [
    "# separating out numerical data points\n",
    "numerical_cols = [\n",
    "    \"VitD_levels\",\n",
    "    \"VitD_supp\",\n",
    "    \"Full_meals_eaten\",\n",
    "    \"Doc_visits\",\n",
    "    \"Initial_days\",\n",
    "    \"TotalCharge\",\n",
    "    \"Additional_charges\"\n",
    "] + [\"Item1\",\"Item2\",\"Item3\",\"Item4\",\"Item5\",\"Item6\",\"Item7\",\"Item8\"]\n",
    "numerical_df = df.loc[:, numerical_cols]"
   ]
  },
  {
   "cell_type": "code",
   "execution_count": 33,
   "metadata": {},
   "outputs": [
    {
     "data": {
      "text/html": [
       "<div>\n",
       "<style scoped>\n",
       "    .dataframe tbody tr th:only-of-type {\n",
       "        vertical-align: middle;\n",
       "    }\n",
       "\n",
       "    .dataframe tbody tr th {\n",
       "        vertical-align: top;\n",
       "    }\n",
       "\n",
       "    .dataframe thead th {\n",
       "        text-align: right;\n",
       "    }\n",
       "</style>\n",
       "<table border=\"1\" class=\"dataframe\">\n",
       "  <thead>\n",
       "    <tr style=\"text-align: right;\">\n",
       "      <th></th>\n",
       "      <th>VitD_levels</th>\n",
       "      <th>VitD_supp</th>\n",
       "      <th>Full_meals_eaten</th>\n",
       "      <th>Doc_visits</th>\n",
       "      <th>Initial_days</th>\n",
       "      <th>TotalCharge</th>\n",
       "      <th>Additional_charges</th>\n",
       "      <th>Item1</th>\n",
       "      <th>Item2</th>\n",
       "      <th>Item3</th>\n",
       "      <th>Item4</th>\n",
       "      <th>Item5</th>\n",
       "      <th>Item6</th>\n",
       "      <th>Item7</th>\n",
       "      <th>Item8</th>\n",
       "    </tr>\n",
       "  </thead>\n",
       "  <tbody>\n",
       "    <tr>\n",
       "      <th>0</th>\n",
       "      <td>-0.239518</td>\n",
       "      <td>-0.634681</td>\n",
       "      <td>-0.993337</td>\n",
       "      <td>0.944599</td>\n",
       "      <td>-0.959278</td>\n",
       "      <td>-0.799539</td>\n",
       "      <td>0.764967</td>\n",
       "      <td>-0.502730</td>\n",
       "      <td>-0.489648</td>\n",
       "      <td>-1.463173</td>\n",
       "      <td>-1.462054</td>\n",
       "      <td>0.488355</td>\n",
       "      <td>-0.506114</td>\n",
       "      <td>-0.483647</td>\n",
       "      <td>0.470397</td>\n",
       "    </tr>\n",
       "    <tr>\n",
       "      <th>1</th>\n",
       "      <td>-0.062177</td>\n",
       "      <td>0.956397</td>\n",
       "      <td>0.990560</td>\n",
       "      <td>-0.967932</td>\n",
       "      <td>-0.776505</td>\n",
       "      <td>-0.496404</td>\n",
       "      <td>0.715078</td>\n",
       "      <td>-0.502730</td>\n",
       "      <td>0.476699</td>\n",
       "      <td>-0.494890</td>\n",
       "      <td>0.467923</td>\n",
       "      <td>0.488355</td>\n",
       "      <td>0.462525</td>\n",
       "      <td>-0.483647</td>\n",
       "      <td>-0.489009</td>\n",
       "    </tr>\n",
       "    <tr>\n",
       "      <th>2</th>\n",
       "      <td>-0.296996</td>\n",
       "      <td>-0.634681</td>\n",
       "      <td>-0.001389</td>\n",
       "      <td>-0.967932</td>\n",
       "      <td>-1.193129</td>\n",
       "      <td>-1.099597</td>\n",
       "      <td>0.698600</td>\n",
       "      <td>-1.471754</td>\n",
       "      <td>0.476699</td>\n",
       "      <td>0.473394</td>\n",
       "      <td>0.467923</td>\n",
       "      <td>-0.482337</td>\n",
       "      <td>0.462525</td>\n",
       "      <td>-0.483647</td>\n",
       "      <td>-0.489009</td>\n",
       "    </tr>\n",
       "  </tbody>\n",
       "</table>\n",
       "</div>"
      ],
      "text/plain": [
       "   VitD_levels  VitD_supp  Full_meals_eaten  Doc_visits  Initial_days  \\\n",
       "0    -0.239518  -0.634681         -0.993337    0.944599     -0.959278   \n",
       "1    -0.062177   0.956397          0.990560   -0.967932     -0.776505   \n",
       "2    -0.296996  -0.634681         -0.001389   -0.967932     -1.193129   \n",
       "\n",
       "   TotalCharge  Additional_charges     Item1     Item2     Item3     Item4  \\\n",
       "0    -0.799539            0.764967 -0.502730 -0.489648 -1.463173 -1.462054   \n",
       "1    -0.496404            0.715078 -0.502730  0.476699 -0.494890  0.467923   \n",
       "2    -1.099597            0.698600 -1.471754  0.476699  0.473394  0.467923   \n",
       "\n",
       "      Item5     Item6     Item7     Item8  \n",
       "0  0.488355 -0.506114 -0.483647  0.470397  \n",
       "1  0.488355  0.462525 -0.483647 -0.489009  \n",
       "2 -0.482337  0.462525 -0.483647 -0.489009  "
      ]
     },
     "execution_count": 33,
     "metadata": {},
     "output_type": "execute_result"
    }
   ],
   "source": [
    "# normalizing the numerical data\n",
    "data_normalized = (numerical_df - numerical_df.mean()) / numerical_df.std()\n",
    "data_normalized.head(3)"
   ]
  },
  {
   "cell_type": "code",
   "execution_count": 59,
   "metadata": {},
   "outputs": [
    {
     "data": {
      "text/plain": [
       "[0.19694557519839118,\n",
       " 0.13003643228100362,\n",
       " 0.1097425889579864,\n",
       " 0.06950751213940139,\n",
       " 0.06771958744174288,\n",
       " 0.06637469413483776,\n",
       " 0.0654069996442076,\n",
       " 0.0644805726044333,\n",
       " 0.051484024721683834,\n",
       " 0.0465193097002268,\n",
       " 0.039244135598235606,\n",
       " 0.035581355897161215,\n",
       " 0.03155617758224267,\n",
       " 0.021824407555206204,\n",
       " 0.003576626543239642]"
      ]
     },
     "execution_count": 59,
     "metadata": {},
     "output_type": "execute_result"
    }
   ],
   "source": [
    "# define number of componants desired\n",
    "n_components_desired = data_normalized.shape[1]\n",
    "# extansiated the PCA class\n",
    "pca = PCA(n_components=n_components_desired)\n",
    "# fit the data\n",
    "pca.fit(data_normalized)\n",
    "# Labeling the PCA component columns\n",
    "columns=[f\"PC{i+1}\" for i in range(n_components_desired)]\n",
    "# displayed a list of the explained varience ration by component\n",
    "list(pca.explained_variance_ratio_)"
   ]
  },
  {
   "cell_type": "code",
   "execution_count": 57,
   "metadata": {},
   "outputs": [
    {
     "name": "stdout",
     "output_type": "stream",
     "text": [
      "PC1 0.19694557519839118\n",
      "PC2 0.32698200747939477\n",
      "PC3 0.43672459643738115\n",
      "PC4 0.5062321085767826\n",
      "PC5 0.5739516960185255\n",
      "PC6 0.6403263901533632\n",
      "PC7 0.7057333897975708\n",
      "PC8 0.7702139624020041\n",
      "PC9 0.8216979871236879\n",
      "PC10 0.8682172968239147\n",
      "PC11 0.9074614324221503\n",
      "PC12 0.9430427883193115\n",
      "PC13 0.9745989659015543\n",
      "PC14 0.9964233734567605\n",
      "PC15 1.0\n"
     ]
    }
   ],
   "source": [
    "for pc, var in zip(columns, np.cumsum(pca.explained_variance_ratio_)):\n",
    "    print(pc, var)"
   ]
  },
  {
   "cell_type": "code",
   "execution_count": 35,
   "metadata": {},
   "outputs": [
    {
     "data": {
      "image/png": "[encoded data removed]",
      "text/plain": [
       "<Figure size 1080x360 with 1 Axes>"
      ]
     },
     "metadata": {},
     "output_type": "display_data"
    }
   ],
   "source": [
    "# plot explained variance ration\n",
    "plt.figure(figsize=(15,5))\n",
    "plt.plot(pca.explained_variance_ratio_)\n",
    "plt.xlabel('number of components')\n",
    "plt.ylabel('explained variance')\n",
    "plt.show()"
   ]
  },
  {
   "cell_type": "code",
   "execution_count": 36,
   "metadata": {},
   "outputs": [
    {
     "data": {
      "image/png": "[encoded data removed]",
      "text/plain": [
       "<Figure size 1080x360 with 1 Axes>"
      ]
     },
     "metadata": {},
     "output_type": "display_data"
    }
   ],
   "source": [
    "# plot explained variance ration as a bar chart\n",
    "plt.figure(figsize=(15,5))\n",
    "plt.bar(columns, pca.explained_variance_ratio_)\n",
    "plt.xlabel('number of components')\n",
    "plt.ylabel('explained variance')\n",
    "plt.show()"
   ]
  },
  {
   "cell_type": "code",
   "execution_count": 37,
   "metadata": {},
   "outputs": [
    {
     "data": {
      "text/plain": [
       "[2.9538882096130488,\n",
       " 1.9503514295666162,\n",
       " 1.6459742204863435,\n",
       " 1.042508420822802,\n",
       " 1.0156922322449713,\n",
       " 0.9955208499813567,\n",
       " 0.9810068841636403,\n",
       " 0.9671118682075843,\n",
       " 0.7721831447881705,\n",
       " 0.6977198665388461,\n",
       " 0.588603167770133,\n",
       " 0.5336669664235668,\n",
       " 0.4732953294672624,\n",
       " 0.3273333767167581,\n",
       " 0.053644033208779]"
      ]
     },
     "execution_count": 37,
     "metadata": {},
     "output_type": "execute_result"
    }
   ],
   "source": [
    "# calculating eigenvalues using numpy array multiplication and list comprehension\n",
    "cov_matrix = np.dot(data_normalized.T, data_normalized) / data_normalized.shape[0]\n",
    "eigenvalues = [np.dot(eigenvector.T, np.dot(cov_matrix, eigenvector)) for eigenvector in pca.components_]\n",
    "eigenvalues"
   ]
  },
  {
   "cell_type": "code",
   "execution_count": 38,
   "metadata": {},
   "outputs": [
    {
     "data": {
      "image/png": "[encoded data removed]",
      "text/plain": [
       "<Figure size 432x288 with 1 Axes>"
      ]
     },
     "metadata": {},
     "output_type": "display_data"
    }
   ],
   "source": [
    "# plotting eigenvalues for better visuilization\n",
    "plt.plot(eigenvalues)\n",
    "plt.xlabel('number of components')\n",
    "plt.ylabel('eigenvalue')\n",
    "plt.show()"
   ]
  },
  {
   "cell_type": "code",
   "execution_count": 44,
   "metadata": {},
   "outputs": [
    {
     "data": {
      "text/html": [
       "<div>\n",
       "<style scoped>\n",
       "    .dataframe tbody tr th:only-of-type {\n",
       "        vertical-align: middle;\n",
       "    }\n",
       "\n",
       "    .dataframe tbody tr th {\n",
       "        vertical-align: top;\n",
       "    }\n",
       "\n",
       "    .dataframe thead th {\n",
       "        text-align: right;\n",
       "    }\n",
       "</style>\n",
       "<table border=\"1\" class=\"dataframe\">\n",
       "  <thead>\n",
       "    <tr style=\"text-align: right;\">\n",
       "      <th></th>\n",
       "      <th>PC1</th>\n",
       "      <th>PC2</th>\n",
       "      <th>PC3</th>\n",
       "      <th>PC4</th>\n",
       "      <th>PC5</th>\n",
       "    </tr>\n",
       "  </thead>\n",
       "  <tbody>\n",
       "    <tr>\n",
       "      <th>VitD_levels</th>\n",
       "      <td>-0.009560</td>\n",
       "      <td>0.540957</td>\n",
       "      <td>0.052098</td>\n",
       "      <td>0.358130</td>\n",
       "      <td>0.015282</td>\n",
       "    </tr>\n",
       "    <tr>\n",
       "      <th>VitD_supp</th>\n",
       "      <td>-0.005161</td>\n",
       "      <td>0.032064</td>\n",
       "      <td>0.009649</td>\n",
       "      <td>-0.326656</td>\n",
       "      <td>0.622945</td>\n",
       "    </tr>\n",
       "    <tr>\n",
       "      <th>Full_meals_eaten</th>\n",
       "      <td>-0.000499</td>\n",
       "      <td>-0.012428</td>\n",
       "      <td>0.020410</td>\n",
       "      <td>0.629819</td>\n",
       "      <td>-0.155030</td>\n",
       "    </tr>\n",
       "    <tr>\n",
       "      <th>Doc_visits</th>\n",
       "      <td>0.007094</td>\n",
       "      <td>-0.005071</td>\n",
       "      <td>-0.007725</td>\n",
       "      <td>0.097878</td>\n",
       "      <td>0.562067</td>\n",
       "    </tr>\n",
       "    <tr>\n",
       "      <th>Initial_days</th>\n",
       "      <td>-0.020689</td>\n",
       "      <td>0.445543</td>\n",
       "      <td>0.066614</td>\n",
       "      <td>-0.432342</td>\n",
       "      <td>-0.063815</td>\n",
       "    </tr>\n",
       "    <tr>\n",
       "      <th>TotalCharge</th>\n",
       "      <td>-0.018678</td>\n",
       "      <td>0.701623</td>\n",
       "      <td>0.082333</td>\n",
       "      <td>0.007896</td>\n",
       "      <td>-0.019172</td>\n",
       "    </tr>\n",
       "    <tr>\n",
       "      <th>Additional_charges</th>\n",
       "      <td>0.003902</td>\n",
       "      <td>0.030985</td>\n",
       "      <td>-0.010270</td>\n",
       "      <td>0.411699</td>\n",
       "      <td>0.516559</td>\n",
       "    </tr>\n",
       "    <tr>\n",
       "      <th>Item1</th>\n",
       "      <td>0.454809</td>\n",
       "      <td>-0.024702</td>\n",
       "      <td>0.295614</td>\n",
       "      <td>0.006683</td>\n",
       "      <td>0.003015</td>\n",
       "    </tr>\n",
       "    <tr>\n",
       "      <th>Item2</th>\n",
       "      <td>0.428522</td>\n",
       "      <td>-0.025244</td>\n",
       "      <td>0.291948</td>\n",
       "      <td>-0.015642</td>\n",
       "      <td>0.005126</td>\n",
       "    </tr>\n",
       "    <tr>\n",
       "      <th>Item3</th>\n",
       "      <td>0.395335</td>\n",
       "      <td>-0.024448</td>\n",
       "      <td>0.295314</td>\n",
       "      <td>-0.009022</td>\n",
       "      <td>-0.003486</td>\n",
       "    </tr>\n",
       "    <tr>\n",
       "      <th>Item4</th>\n",
       "      <td>0.152038</td>\n",
       "      <td>0.063593</td>\n",
       "      <td>-0.554522</td>\n",
       "      <td>-0.015649</td>\n",
       "      <td>-0.016689</td>\n",
       "    </tr>\n",
       "    <tr>\n",
       "      <th>Item5</th>\n",
       "      <td>-0.189889</td>\n",
       "      <td>-0.071983</td>\n",
       "      <td>0.579575</td>\n",
       "      <td>0.001378</td>\n",
       "      <td>-0.001234</td>\n",
       "    </tr>\n",
       "    <tr>\n",
       "      <th>Item6</th>\n",
       "      <td>0.410248</td>\n",
       "      <td>0.032025</td>\n",
       "      <td>-0.161251</td>\n",
       "      <td>0.011682</td>\n",
       "      <td>-0.007263</td>\n",
       "    </tr>\n",
       "    <tr>\n",
       "      <th>Item7</th>\n",
       "      <td>0.356496</td>\n",
       "      <td>0.037329</td>\n",
       "      <td>-0.170150</td>\n",
       "      <td>0.019096</td>\n",
       "      <td>0.004246</td>\n",
       "    </tr>\n",
       "    <tr>\n",
       "      <th>Item8</th>\n",
       "      <td>0.312573</td>\n",
       "      <td>0.030402</td>\n",
       "      <td>-0.164951</td>\n",
       "      <td>-0.034471</td>\n",
       "      <td>-0.009017</td>\n",
       "    </tr>\n",
       "  </tbody>\n",
       "</table>\n",
       "</div>"
      ],
      "text/plain": [
       "                         PC1       PC2       PC3       PC4       PC5\n",
       "VitD_levels        -0.009560  0.540957  0.052098  0.358130  0.015282\n",
       "VitD_supp          -0.005161  0.032064  0.009649 -0.326656  0.622945\n",
       "Full_meals_eaten   -0.000499 -0.012428  0.020410  0.629819 -0.155030\n",
       "Doc_visits          0.007094 -0.005071 -0.007725  0.097878  0.562067\n",
       "Initial_days       -0.020689  0.445543  0.066614 -0.432342 -0.063815\n",
       "TotalCharge        -0.018678  0.701623  0.082333  0.007896 -0.019172\n",
       "Additional_charges  0.003902  0.030985 -0.010270  0.411699  0.516559\n",
       "Item1               0.454809 -0.024702  0.295614  0.006683  0.003015\n",
       "Item2               0.428522 -0.025244  0.291948 -0.015642  0.005126\n",
       "Item3               0.395335 -0.024448  0.295314 -0.009022 -0.003486\n",
       "Item4               0.152038  0.063593 -0.554522 -0.015649 -0.016689\n",
       "Item5              -0.189889 -0.071983  0.579575  0.001378 -0.001234\n",
       "Item6               0.410248  0.032025 -0.161251  0.011682 -0.007263\n",
       "Item7               0.356496  0.037329 -0.170150  0.019096  0.004246\n",
       "Item8               0.312573  0.030402 -0.164951 -0.034471 -0.009017"
      ]
     },
     "execution_count": 44,
     "metadata": {},
     "output_type": "execute_result"
    }
   ],
   "source": [
    "# calculationg the PCA loading values\n",
    "loadings = pd.DataFrame(pca.components_.T, columns=columns, index=data_normalized.columns)\n",
    "loadings.iloc[:,0:5]"
   ]
  },
  {
   "cell_type": "code",
   "execution_count": null,
   "metadata": {},
   "outputs": [],
   "source": []
  },
  {
   "cell_type": "code",
   "execution_count": 47,
   "metadata": {},
   "outputs": [],
   "source": [
    "# transforming PCA data into a useable data frame\n",
    "pca_data = pd.DataFrame(pca.transform(data_normalized), columns = columns)"
   ]
  },
  {
   "cell_type": "code",
   "execution_count": 52,
   "metadata": {},
   "outputs": [
    {
     "data": {
      "text/html": [
       "<div>\n",
       "<style scoped>\n",
       "    .dataframe tbody tr th:only-of-type {\n",
       "        vertical-align: middle;\n",
       "    }\n",
       "\n",
       "    .dataframe tbody tr th {\n",
       "        vertical-align: top;\n",
       "    }\n",
       "\n",
       "    .dataframe thead th {\n",
       "        text-align: right;\n",
       "    }\n",
       "</style>\n",
       "<table border=\"1\" class=\"dataframe\">\n",
       "  <thead>\n",
       "    <tr style=\"text-align: right;\">\n",
       "      <th></th>\n",
       "      <th>PC1</th>\n",
       "      <th>PC2</th>\n",
       "      <th>PC3</th>\n",
       "      <th>PC4</th>\n",
       "      <th>PC5</th>\n",
       "    </tr>\n",
       "  </thead>\n",
       "  <tbody>\n",
       "    <tr>\n",
       "      <th>0</th>\n",
       "      <td>-1.514425</td>\n",
       "      <td>-1.194578</td>\n",
       "      <td>0.272671</td>\n",
       "      <td>0.321425</td>\n",
       "      <td>0.779842</td>\n",
       "    </tr>\n",
       "    <tr>\n",
       "      <th>1</th>\n",
       "      <td>-0.360703</td>\n",
       "      <td>-0.693492</td>\n",
       "      <td>-0.109910</td>\n",
       "      <td>0.820670</td>\n",
       "      <td>0.318910</td>\n",
       "    </tr>\n",
       "    <tr>\n",
       "      <th>2</th>\n",
       "      <td>-0.203531</td>\n",
       "      <td>-1.398417</td>\n",
       "      <td>-0.798086</td>\n",
       "      <td>0.783590</td>\n",
       "      <td>-0.497511</td>\n",
       "    </tr>\n",
       "    <tr>\n",
       "      <th>3</th>\n",
       "      <td>2.396507</td>\n",
       "      <td>-1.455304</td>\n",
       "      <td>0.354197</td>\n",
       "      <td>0.535375</td>\n",
       "      <td>-0.844118</td>\n",
       "    </tr>\n",
       "    <tr>\n",
       "      <th>4</th>\n",
       "      <td>-2.404398</td>\n",
       "      <td>-1.620502</td>\n",
       "      <td>-0.276557</td>\n",
       "      <td>-1.544020</td>\n",
       "      <td>1.110270</td>\n",
       "    </tr>\n",
       "    <tr>\n",
       "      <th>...</th>\n",
       "      <td>...</td>\n",
       "      <td>...</td>\n",
       "      <td>...</td>\n",
       "      <td>...</td>\n",
       "      <td>...</td>\n",
       "    </tr>\n",
       "    <tr>\n",
       "      <th>9995</th>\n",
       "      <td>-2.112054</td>\n",
       "      <td>0.209656</td>\n",
       "      <td>-0.125961</td>\n",
       "      <td>-0.393089</td>\n",
       "      <td>-0.450468</td>\n",
       "    </tr>\n",
       "    <tr>\n",
       "      <th>9996</th>\n",
       "      <td>-0.659645</td>\n",
       "      <td>0.840961</td>\n",
       "      <td>1.505641</td>\n",
       "      <td>-0.069253</td>\n",
       "      <td>0.898850</td>\n",
       "    </tr>\n",
       "    <tr>\n",
       "      <th>9997</th>\n",
       "      <td>-1.893514</td>\n",
       "      <td>-0.007652</td>\n",
       "      <td>0.179145</td>\n",
       "      <td>0.718807</td>\n",
       "      <td>-0.915463</td>\n",
       "    </tr>\n",
       "    <tr>\n",
       "      <th>9998</th>\n",
       "      <td>0.819565</td>\n",
       "      <td>1.173406</td>\n",
       "      <td>0.998508</td>\n",
       "      <td>-0.370188</td>\n",
       "      <td>-0.039006</td>\n",
       "    </tr>\n",
       "    <tr>\n",
       "      <th>9999</th>\n",
       "      <td>0.631606</td>\n",
       "      <td>1.389564</td>\n",
       "      <td>0.154291</td>\n",
       "      <td>-1.501627</td>\n",
       "      <td>0.548836</td>\n",
       "    </tr>\n",
       "  </tbody>\n",
       "</table>\n",
       "<p>10000 rows × 5 columns</p>\n",
       "</div>"
      ],
      "text/plain": [
       "           PC1       PC2       PC3       PC4       PC5\n",
       "0    -1.514425 -1.194578  0.272671  0.321425  0.779842\n",
       "1    -0.360703 -0.693492 -0.109910  0.820670  0.318910\n",
       "2    -0.203531 -1.398417 -0.798086  0.783590 -0.497511\n",
       "3     2.396507 -1.455304  0.354197  0.535375 -0.844118\n",
       "4    -2.404398 -1.620502 -0.276557 -1.544020  1.110270\n",
       "...        ...       ...       ...       ...       ...\n",
       "9995 -2.112054  0.209656 -0.125961 -0.393089 -0.450468\n",
       "9996 -0.659645  0.840961  1.505641 -0.069253  0.898850\n",
       "9997 -1.893514 -0.007652  0.179145  0.718807 -0.915463\n",
       "9998  0.819565  1.173406  0.998508 -0.370188 -0.039006\n",
       "9999  0.631606  1.389564  0.154291 -1.501627  0.548836\n",
       "\n",
       "[10000 rows x 5 columns]"
      ]
     },
     "execution_count": 52,
     "metadata": {},
     "output_type": "execute_result"
    }
   ],
   "source": [
    "# Export pca data with eigenvalue>1 to a new dataframe\n",
    "pca_data_final = pca_data.iloc[:,0:5]\n",
    "pca_data_final"
   ]
  },
  {
   "cell_type": "markdown",
   "metadata": {},
   "source": [
    "#### E1. Principle Components\n",
    "Our PCA started with 15 numerical values and therefore 15 PCs. After analysis, it was determined that the first 11 of our PCs accounted for 90% of the variation. After calculating the eigenvalues it was determined that only the first 5PCs had scored over 1 although PC6 and PC7 had eigenvalues on .995 and .98 putting them right on the bubble. This left us with 5 principal components for future analysis.\n",
    "\n",
    "- PC1\n",
    "- PC2\n",
    "- PC3\n",
    "- PC4\n",
    "- PC5\n",
    "\n",
    "As the result of examining the loading of each of these PCs we can determine that the factors that played the largest roles in these first 5 PCs are:\n",
    "\n",
    "- VitD_levels\n",
    "- VitD_supp\n",
    "- Full_meals_eaten\n",
    "- Doc_visits\n",
    "- Initial_days\n",
    "- Total_chage\n",
    "- Additional_charge\n",
    "- Survey Items 1, 2 , 5 and 6\n"
   ]
  },
  {
   "cell_type": "markdown",
   "metadata": {},
   "source": [
    "#### E2. Identification Process\n",
    "For the sake of the PCA, the data frame was reduced to only contain numerical values. These numerical values were then standardized to ensure numerical values with larger ranges such as income did not overwhelm values with smaller ranges such as VitD level. \n",
    "\n",
    "Then using SkLearns build in PCA functionality we fit the standardized data. After the data was fitted we were able to view the explained variance ratio for each of our principal components. We were then able to analyze the running total using NumPy’s “.cumsum” method.  This is how we were able to determine that 90% of the variance could be explained by PC1 thru PC11. \n",
    "\n",
    "After this, we were able to plot out the explained variance ratio using both a scree plot and a box plot. This enabled us to better understand the ratios visually before moving on to the eigenvalues.\n",
    "\n",
    "We then calculated the eigenvalues for using NumPy’s built-in array multiplication function. With the eigenvalues, we were able to determine that only the first 5 PCs earned an eigenvalue of 1 or greater. This allowed us to reduce the PCs down to PC1 thru PC5.  We then plotted the eigenvalues and could visually see that PC6 and PC7 just barely missed the cut-off. This is an important note for future analysis.\n",
    "\n",
    "Finally, we were able to create a data frame that contained the loading values for each of our principal components. Thru this, we can discover the above list of key factors that played a significant role in our 5 PCs. The criterion used for the list above was arbitrarily chosen to be a loading value of .4 or greater in one or more of the 5 PCs with eigenvalues greater than or equal to one. \n"
   ]
  },
  {
   "cell_type": "markdown",
   "metadata": {},
   "source": [
    "#### E3. Organizational Benifit\n",
    "\n",
    "The organization benefits from the result of this PCA in two main ways. First is that the PCA reduces the data to a more manageable 5 numerical values. This will lead to faster future analysis especially if the system is productionized and running continuously. The reduction of data using this PCA will also allow the organization to maintain a large portion of the data in the key reduction process.\n",
    "\n",
    "The second organizational benefit of the PCA is identifying the features in the data set that account for the largest portion of the variability. Without further analysis, it is not possible to determine which features are the most correlated with our target variable however there is still great value in identifying features that tend to cause variability. This means organizationally we will be able to observe these key features such as VitD Level and initial_days more closely with the understanding that they are important causes of variation within our PCs. This will allow our organization to focus more on these factors as potential indicators of readmission.\n"
   ]
  },
  {
   "cell_type": "markdown",
   "metadata": {},
   "source": [
    "### Part IV. Supporting Documents"
   ]
  },
  {
   "cell_type": "markdown",
   "metadata": {},
   "source": [
    "#### F. Panopto Presentation"
   ]
  },
  {
   "cell_type": "markdown",
   "metadata": {},
   "source": [
    "#### G. Sources\n",
    "\n",
    "- Poulson, B. (2016, September 6). Data science foundations: Data mining [Video]. LinkedIn Learning. https://www.linkedin.com/learning/data-science-foundations-data-mining/welcome?u=2045532.\n",
    "\n",
    "- Vallisneri, M. (2018, July 17). Python statistics essential training [Video]. LinkedIn Learning. https://www.linkedin.com/learning/python-statistics-essential-training/welcome?u=2045532\n",
    "\n",
    "- Ekker, R. (2018, May 24). Pandas playbook: Manipulating data [Video]. Pluralsight. https://www.pluralsight.com/courses/pandas-playbook-manipulating-data\n",
    "\n",
    "- Ekker, R. (2018, May 24). Pandas playbook: Manipulating data [Video]. Pluralsight. https://www.pluralsight.com/courses/pandas-playbook-manipulating-data\n",
    "\n",
    "-"
   ]
  },
  {
   "cell_type": "code",
   "execution_count": null,
   "metadata": {},
   "outputs": [],
   "source": [
    "Part IV. Supporting Documents"
   ]
  }
 ],
 "metadata": {
  "kernelspec": {
   "display_name": "Python 3",
   "language": "python",
   "name": "python3"
  },
  "language_info": {
   "codemirror_mode": {
    "name": "ipython",
    "version": 3
   },
   "file_extension": ".py",
   "mimetype": "text/x-python",
   "name": "python",
   "nbconvert_exporter": "python",
   "pygments_lexer": "ipython3",
   "version": "3.8.5"
  }
 },
 "nbformat": 4,
 "nbformat_minor": 4
}
